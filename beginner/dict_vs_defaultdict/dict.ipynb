{
 "cells": [
  {
   "cell_type": "markdown",
   "id": "d9a8922b",
   "metadata": {},
   "source": [
    "### 1. dict type"
   ]
  },
  {
   "cell_type": "markdown",
   "id": "16850fc5",
   "metadata": {},
   "source": [
    "The easiest way to access a value inside dictionary is with [key]"
   ]
  },
  {
   "cell_type": "code",
   "execution_count": 1,
   "id": "e73e49ff",
   "metadata": {
    "scrolled": true
   },
   "outputs": [
    {
     "name": "stdout",
     "output_type": "stream",
     "text": [
      "value\n"
     ]
    }
   ],
   "source": [
    "default_dict = {\"key\": \"value\"}\n",
    "print(default_dict[\"key\"])"
   ]
  },
  {
   "cell_type": "markdown",
   "id": "291368dc",
   "metadata": {},
   "source": [
    "In case of key not present on dict, KeyError exception is raised"
   ]
  },
  {
   "cell_type": "raw",
   "id": "51be17ec",
   "metadata": {},
   "source": [
    "print(default_dict[\"other_key\"])\n",
    "\n",
    "---------------------------------------------------------------------------\n",
    "KeyError                                  Traceback (most recent call last)\n",
    "<ipython-input-3-b8141f1d53f7> in <module>\n",
    "----> 1 print(default_dict[\"other_key\"])\n",
    "\n",
    "KeyError: 'other_key'"
   ]
  },
  {
   "cell_type": "markdown",
   "id": "6c26ae3b",
   "metadata": {},
   "source": [
    "You can control KeyError exception"
   ]
  },
  {
   "cell_type": "code",
   "execution_count": 2,
   "id": "5c98104d",
   "metadata": {},
   "outputs": [
    {
     "name": "stdout",
     "output_type": "stream",
     "text": [
      "default_value\n"
     ]
    }
   ],
   "source": [
    "try:\n",
    "    print(default_dict[\"other_key\"])\n",
    "except KeyError:\n",
    "    print('default_value')"
   ]
  },
  {
   "cell_type": "markdown",
   "id": "aba7eda4",
   "metadata": {},
   "source": [
    "to avoid KeyError, you can use a conditional"
   ]
  },
  {
   "cell_type": "code",
   "execution_count": 3,
   "id": "a787dcdd",
   "metadata": {},
   "outputs": [
    {
     "name": "stdout",
     "output_type": "stream",
     "text": [
      "value\n"
     ]
    }
   ],
   "source": [
    "if \"key\" in default_dict:\n",
    "    print(default_dict[\"key\"])\n",
    "if \"other_key\" in default_dict:\n",
    "    print(default_dict[\"other_key\"])\n"
   ]
  },
  {
   "cell_type": "markdown",
   "id": "81fea056",
   "metadata": {},
   "source": [
    "Other option is use `get` method. If key is not present in dict, None (or custom value) is returned"
   ]
  },
  {
   "cell_type": "code",
   "execution_count": 4,
   "id": "07522a1e",
   "metadata": {},
   "outputs": [
    {
     "name": "stdout",
     "output_type": "stream",
     "text": [
      "value\n",
      "None\n",
      "default_value\n"
     ]
    }
   ],
   "source": [
    "print(default_dict.get(\"key\"))\n",
    "print(default_dict.get(\"other_key\"))\n",
    "print(default_dict.get(\"other_key\", \"default_value\"))"
   ]
  },
  {
   "cell_type": "markdown",
   "id": "e5771840",
   "metadata": {},
   "source": [
    "### 2. defaultdict"
   ]
  },
  {
   "cell_type": "markdown",
   "id": "cfa48b87",
   "metadata": {},
   "source": [
    "defaultdict enables a dict with a default value.\n",
    "Useful in the occasions where you need a default value always, in loops for example"
   ]
  },
  {
   "cell_type": "code",
   "execution_count": 5,
   "id": "baeaf73f",
   "metadata": {},
   "outputs": [
    {
     "name": "stdout",
     "output_type": "stream",
     "text": [
      "value\n",
      "None\n"
     ]
    }
   ],
   "source": [
    "from collections import defaultdict\n",
    "\n",
    "col_default_dict = defaultdict(lambda: None)\n",
    "col_default_dict.update({\"key\": \"value\"})\n",
    "print(col_default_dict[\"key\"])\n",
    "print(col_default_dict[\"other_key\"])"
   ]
  },
  {
   "cell_type": "code",
   "execution_count": 6,
   "id": "3029d997",
   "metadata": {},
   "outputs": [
    {
     "name": "stdout",
     "output_type": "stream",
     "text": [
      "22\n",
      "0\n"
     ]
    }
   ],
   "source": [
    "from collections import defaultdict\n",
    "col_default_dict_int = defaultdict(int)\n",
    "col_default_dict_int.update({\"key\": 22})\n",
    "print(col_default_dict_int[\"key\"])\n",
    "print(col_default_dict_int[\"other_key\"])"
   ]
  },
  {
   "cell_type": "code",
   "execution_count": 7,
   "id": "51cd7707",
   "metadata": {},
   "outputs": [
    {
     "name": "stdout",
     "output_type": "stream",
     "text": [
      "[1, 2, 3]\n",
      "[]\n"
     ]
    }
   ],
   "source": [
    "col_default_dict_list = defaultdict(list)\n",
    "col_default_dict_list[\"key\"] = [1, 2, 3]\n",
    "print(col_default_dict_list[\"key\"])\n",
    "print(col_default_dict_list[\"other_key\"])"
   ]
  },
  {
   "cell_type": "markdown",
   "id": "1680a812",
   "metadata": {},
   "source": [
    "### 3. Performance"
   ]
  },
  {
   "cell_type": "markdown",
   "id": "16b94c7c",
   "metadata": {},
   "source": [
    "Great performance in using default_dict vs get"
   ]
  },
  {
   "cell_type": "code",
   "execution_count": 8,
   "id": "9e33a372",
   "metadata": {},
   "outputs": [
    {
     "name": "stdout",
     "output_type": "stream",
     "text": [
      "Get missing default dict: 0.2410796370022581\n",
      "Get missing collection default dict: 0.12066887900073198\n"
     ]
    }
   ],
   "source": [
    "from timeit import timeit\n",
    "\n",
    "print(\"Get missing default dict:\", timeit(\n",
    "    stmt=\"default_dict.get('key')\", \n",
    "    setup=\"default_dict = {}\",\n",
    "    number=5000000))\n",
    "\n",
    "print(\"Get missing collection default dict:\", timeit(\n",
    "    stmt=\"default_dict['key']\", \n",
    "    setup=\"from collections import defaultdict; default_dict = defaultdict(lambda: None)\",\n",
    "    number=5000000))\n",
    "\n"
   ]
  },
  {
   "cell_type": "markdown",
   "id": "91e763da",
   "metadata": {},
   "source": [
    "### 4. Storage"
   ]
  },
  {
   "cell_type": "markdown",
   "id": "f2f98840",
   "metadata": {},
   "source": [
    "Relative bigger size of dict, but not really that much"
   ]
  },
  {
   "cell_type": "code",
   "execution_count": 9,
   "id": "b83d3079",
   "metadata": {},
   "outputs": [
    {
     "name": "stdout",
     "output_type": "stream",
     "text": [
      "248\n",
      "256\n"
     ]
    }
   ],
   "source": [
    "import sys\n",
    "\n",
    "print(sys.getsizeof(dict()))\n",
    "print(sys.getsizeof(defaultdict(lambda: None)))\n"
   ]
  },
  {
   "cell_type": "markdown",
   "id": "6c6af5cf",
   "metadata": {},
   "source": [
    "### 5. Bibliografy\n",
    "More information https://realpython.com/python-defaultdict/#defaultdict-vs-dictsetdefault\n",
    "\n",
    "\n"
   ]
  }
 ],
 "metadata": {
  "kernelspec": {
   "display_name": "Python 3 (ipykernel)",
   "language": "python",
   "name": "python3"
  },
  "language_info": {
   "codemirror_mode": {
    "name": "ipython",
    "version": 3
   },
   "file_extension": ".py",
   "mimetype": "text/x-python",
   "name": "python",
   "nbconvert_exporter": "python",
   "pygments_lexer": "ipython3",
   "version": "3.7.13"
  }
 },
 "nbformat": 4,
 "nbformat_minor": 5
}
