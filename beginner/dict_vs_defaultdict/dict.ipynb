{
 "cells": [
  {
   "cell_type": "markdown",
   "id": "d9a8922b",
   "metadata": {},
   "source": [
    "### 1. dict type"
   ]
  },
  {
   "cell_type": "markdown",
   "id": "67983bbd",
   "metadata": {},
   "source": [
    "The easiest way to access a value inside dictionary is with [key]"
   ]
  },
  {
   "cell_type": "code",
   "execution_count": 1,
   "id": "e73e49ff",
   "metadata": {
    "scrolled": true
   },
   "outputs": [
    {
     "name": "stdout",
     "output_type": "stream",
     "text": [
      "value\n"
     ]
    }
   ],
   "source": [
    "default_dict = {\"key\": \"value\"}\n",
    "print(default_dict[\"key\"])"
   ]
  },
  {
   "cell_type": "markdown",
   "id": "c06547f2",
   "metadata": {},
   "source": [
    "In case of key not present on dict, KeyError exception is raised"
   ]
  },
  {
   "cell_type": "code",
   "execution_count": 2,
   "id": "73c7dfaf",
   "metadata": {},
   "outputs": [
    {
     "ename": "KeyError",
     "evalue": "'other_key'",
     "output_type": "error",
     "traceback": [
      "\u001b[0;31m---------------------------------------------------------------------------\u001b[0m",
      "\u001b[0;31mKeyError\u001b[0m                                  Traceback (most recent call last)",
      "\u001b[0;32m/tmp/ipykernel_80279/15360768.py\u001b[0m in \u001b[0;36m<module>\u001b[0;34m\u001b[0m\n\u001b[0;32m----> 1\u001b[0;31m \u001b[0mprint\u001b[0m\u001b[0;34m(\u001b[0m\u001b[0mdefault_dict\u001b[0m\u001b[0;34m[\u001b[0m\u001b[0;34m\"other_key\"\u001b[0m\u001b[0;34m]\u001b[0m\u001b[0;34m)\u001b[0m\u001b[0;34m\u001b[0m\u001b[0;34m\u001b[0m\u001b[0m\n\u001b[0m",
      "\u001b[0;31mKeyError\u001b[0m: 'other_key'"
     ]
    }
   ],
   "source": [
    "print(default_dict[\"other_key\"])"
   ]
  },
  {
   "cell_type": "markdown",
   "id": "fc085729",
   "metadata": {},
   "source": [
    "You can control KeyError exception"
   ]
  },
  {
   "cell_type": "code",
   "execution_count": null,
   "id": "5c98104d",
   "metadata": {},
   "outputs": [],
   "source": [
    "try:\n",
    "    print(default_dict[\"other_key\"])\n",
    "except KeyError:\n",
    "    print('default_value')"
   ]
  },
  {
   "cell_type": "markdown",
   "id": "9dad9c91",
   "metadata": {},
   "source": [
    "to avoid KeyError, you can use a conditional"
   ]
  },
  {
   "cell_type": "code",
   "execution_count": null,
   "id": "a787dcdd",
   "metadata": {},
   "outputs": [],
   "source": [
    "if \"key\" in default_dict:\n",
    "    print(default_dict[\"key\"])\n",
    "if \"other_key\" in default_dict:\n",
    "    print(default_dict[\"other_key\"])\n"
   ]
  },
  {
   "cell_type": "markdown",
   "id": "3894489c",
   "metadata": {},
   "source": [
    "Other option is use `get` method. If key is not present in dict, None (or custom value) is returned"
   ]
  },
  {
   "cell_type": "code",
   "execution_count": null,
   "id": "07522a1e",
   "metadata": {},
   "outputs": [],
   "source": [
    "print(default_dict.get(\"key\"))\n",
    "print(default_dict.get(\"other_key\"))\n",
    "print(default_dict.get(\"other_key\", \"default_value\"))"
   ]
  },
  {
   "cell_type": "markdown",
   "id": "e5771840",
   "metadata": {},
   "source": [
    "### 2. defaultdict"
   ]
  },
  {
   "cell_type": "markdown",
   "id": "7c3a6bb9",
   "metadata": {},
   "source": [
    "defaultdict enables a dict with a default value.\n",
    "Useful in the occasions where you need a default value always, in loops for example"
   ]
  },
  {
   "cell_type": "code",
   "execution_count": null,
   "id": "baeaf73f",
   "metadata": {},
   "outputs": [],
   "source": [
    "from collections import defaultdict\n",
    "\n",
    "col_default_dict = defaultdict(lambda: None)\n",
    "col_default_dict.update({\"key\": \"value\"})\n",
    "print(col_default_dict[\"key\"])\n",
    "print(col_default_dict[\"other_key\"])"
   ]
  },
  {
   "cell_type": "code",
   "execution_count": null,
   "id": "4132a07e",
   "metadata": {},
   "outputs": [],
   "source": [
    "from collections import defaultdict\n",
    "col_default_dict_int = defaultdict(int)\n",
    "col_default_dict_int.update({\"key\": 22})\n",
    "print(col_default_dict_int[\"key\"])\n",
    "print(col_default_dict_int[\"other_key\"])"
   ]
  },
  {
   "cell_type": "code",
   "execution_count": null,
   "id": "ce447120",
   "metadata": {},
   "outputs": [],
   "source": [
    "col_default_dict_list = defaultdict(list)\n",
    "col_default_dict_list[\"key\"] = [1, 2, 3]\n",
    "print(col_default_dict_list[\"key\"])\n",
    "print(col_default_dict_list[\"other_key\"])"
   ]
  },
  {
   "cell_type": "markdown",
   "id": "1680a812",
   "metadata": {},
   "source": [
    "### 3. Performance"
   ]
  },
  {
   "cell_type": "markdown",
   "id": "19c0a73a",
   "metadata": {},
   "source": [
    "Great performance in using default_dict vs get"
   ]
  },
  {
   "cell_type": "code",
   "execution_count": null,
   "id": "9e33a372",
   "metadata": {},
   "outputs": [],
   "source": [
    "from timeit import timeit\n",
    "\n",
    "print(\"Get missing default dict:\", timeit(\n",
    "    stmt=\"default_dict.get('key')\", \n",
    "    setup=\"default_dict = {}\",\n",
    "    number=5000000))\n",
    "\n",
    "print(\"Get missing collection default dict:\", timeit(\n",
    "    stmt=\"default_dict['key']\", \n",
    "    setup=\"from collections import defaultdict; default_dict = defaultdict(lambda: None)\",\n",
    "    number=5000000))\n",
    "\n"
   ]
  },
  {
   "cell_type": "markdown",
   "id": "91e763da",
   "metadata": {},
   "source": [
    "### 4. Storage"
   ]
  },
  {
   "cell_type": "markdown",
   "id": "85df85be",
   "metadata": {},
   "source": [
    "Relative bigger size of dict, but not really that much"
   ]
  },
  {
   "cell_type": "code",
   "execution_count": null,
   "id": "b83d3079",
   "metadata": {},
   "outputs": [],
   "source": [
    "import sys\n",
    "\n",
    "print(sys.getsizeof(dict()))\n",
    "print(sys.getsizeof(defaultdict(lambda: None)))\n"
   ]
  },
  {
   "cell_type": "markdown",
   "id": "6c6af5cf",
   "metadata": {},
   "source": [
    "### 5. Bibliografy\n",
    "More information https://realpython.com/python-defaultdict/#defaultdict-vs-dictsetdefault\n",
    "\n",
    "\n"
   ]
  }
 ],
 "metadata": {
  "kernelspec": {
   "display_name": "Python 3 (ipykernel)",
   "language": "python",
   "name": "python3"
  },
  "language_info": {
   "codemirror_mode": {
    "name": "ipython",
    "version": 3
   },
   "file_extension": ".py",
   "mimetype": "text/x-python",
   "name": "python",
   "nbconvert_exporter": "python",
   "pygments_lexer": "ipython3",
   "version": "3.7.13"
  }
 },
 "nbformat": 4,
 "nbformat_minor": 5
}
